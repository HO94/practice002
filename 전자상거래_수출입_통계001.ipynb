{
  "nbformat": 4,
  "nbformat_minor": 0,
  "metadata": {
    "colab": {
      "name": "전자상거래 수출입 통계001",
      "provenance": [],
      "authorship_tag": "ABX9TyMOnrmfIbt0U6VlbuuEVZHK",
      "include_colab_link": true
    },
    "kernelspec": {
      "name": "python3",
      "display_name": "Python 3"
    }
  },
  "cells": [
    {
      "cell_type": "markdown",
      "metadata": {
        "id": "view-in-github",
        "colab_type": "text"
      },
      "source": [
        "<a href=\"https://colab.research.google.com/github/HO94/practice002/blob/main/%EC%A0%84%EC%9E%90%EC%83%81%EA%B1%B0%EB%9E%98_%EC%88%98%EC%B6%9C%EC%9E%85_%ED%86%B5%EA%B3%84001.ipynb\" target=\"_parent\"><img src=\"https://colab.research.google.com/assets/colab-badge.svg\" alt=\"Open In Colab\"/></a>"
      ]
    },
    {
      "cell_type": "code",
      "metadata": {
        "id": "ZA9O734AbXX6"
      },
      "source": [
        ""
      ],
      "execution_count": null,
      "outputs": []
    }
  ]
}